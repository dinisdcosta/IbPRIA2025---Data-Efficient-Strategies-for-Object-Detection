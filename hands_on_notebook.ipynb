{
 "cells": [
  {
   "cell_type": "markdown",
   "id": "81e01772",
   "metadata": {},
   "source": [
    "# IbPRIA 2025 - Data-Efficient Strategies for Object Detection"
   ]
  },
  {
   "cell_type": "markdown",
   "id": "97c69f66",
   "metadata": {},
   "source": [
    "> 📌 **Note**: You can run this notebook on:\n",
    ">\n",
    "> - 💻 Your local machine (Python ≥ 3.8, see `requirements.txt`)\n",
    "> - 🌐 [Google Colab](https://colab.research.google.com/github/dinisdcosta/IbPRIA2015---Data-Efficient-Strategies-for-Object-Detection/blob/main/old.ipynb)\n",
    ">\n",
    "> Instructions are provided inline for both environments.\n"
   ]
  },
  {
   "cell_type": "code",
   "execution_count": 2,
   "id": "ec3cbaa2",
   "metadata": {},
   "outputs": [
    {
     "name": "stdout",
     "output_type": "stream",
     "text": [
      "✅ Running locally\n",
      "Installing dependencies...\n"
     ]
    }
   ],
   "source": [
    "import sys\n",
    "IN_COLAB = 'google.colab' in sys.modules\n",
    "\n",
    "if IN_COLAB:\n",
    "    print(\"✅ Running on Google Colab\")\n",
    "    print(\"Installing dependencies...\")\n",
    "    !pip install -r requirements.txt > /dev/null 2>&1\n",
    "    # e.g., clone repo or mount Google Drive\n",
    "else:\n",
    "    print(\"✅ Running locally\")\n",
    "    print(\"Installing dependencies...\")\n",
    "    !pip install -r requirements.txt > /dev/null 2>&1"
   ]
  },
  {
   "cell_type": "markdown",
   "id": "11387719",
   "metadata": {},
   "source": [
    "## Annotations"
   ]
  },
  {
   "cell_type": "markdown",
   "id": "85b2cbe9",
   "metadata": {},
   "source": []
  }
 ],
 "metadata": {
  "kernelspec": {
   "display_name": ".venv",
   "language": "python",
   "name": "python3"
  },
  "language_info": {
   "codemirror_mode": {
    "name": "ipython",
    "version": 3
   },
   "file_extension": ".py",
   "mimetype": "text/x-python",
   "name": "python",
   "nbconvert_exporter": "python",
   "pygments_lexer": "ipython3",
   "version": "3.9.6"
  }
 },
 "nbformat": 4,
 "nbformat_minor": 5
}
